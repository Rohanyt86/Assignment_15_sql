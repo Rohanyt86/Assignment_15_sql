{
 "cells": [
  {
   "cell_type": "markdown",
   "id": "89f2296b",
   "metadata": {},
   "source": [
    "#### Q1. What is a database? Differentiate between SQL and NoSQL databases."
   ]
  },
  {
   "cell_type": "code",
   "execution_count": null,
   "id": "ae5eda89",
   "metadata": {},
   "outputs": [],
   "source": [
    "A database is a structured collection of data that is organized for efficient storage, retrieval, \n",
    "and management. It can store various types of information and allows for querying and manipulation of data.\n",
    "\n",
    "SQL (Structured Query Language) databases:\n",
    "- Relational databases that use structured schemas.\n",
    "- Data is stored in tables with rows and columns.\n",
    "- ACID (Atomicity, Consistency, Isolation, Durability) transactions ensure data integrity.\n",
    "- Examples: MySQL, PostgreSQL, Oracle.\n",
    "\n",
    "NoSQL (Not Only SQL) databases:\n",
    "- Diverse set of database types that are often schema-less.\n",
    "- Data is typically stored in flexible formats like JSON, XML, or key-value pairs.\n",
    "- Focus on horizontal scalability and can handle large volumes of data.\n",
    "- Examples: MongoDB, Cassandra, Redis.\n",
    "\n",
    "The choice between SQL and NoSQL databases depends on the specific needs of a project, such as data structure, \n",
    "scalability, and performance requirements."
   ]
  },
  {
   "cell_type": "markdown",
   "id": "d96f6f75",
   "metadata": {},
   "source": [
    "#### Q2. What is DDL? Explain why CREATE, DROP, ALTER, and TRUNCATE are used with an example."
   ]
  },
  {
   "cell_type": "code",
   "execution_count": null,
   "id": "bcc31e4e",
   "metadata": {},
   "outputs": [],
   "source": [
    "Sure, here's a shorter explanation:\n",
    "\n",
    "DDL (Data Definition Language) is a set of SQL commands for managing a database's structure.\n",
    "\n",
    "1. CREATE: Used to make new database objects (e.g., tables).\n",
    "   Example: `CREATE TABLE Employees (ID INT, Name VARCHAR);`\n",
    "\n",
    "2. DROP: Deletes database objects.\n",
    "   Example: `DROP TABLE Employees;`\n",
    "\n",
    "3. ALTER: Modifies existing database objects.\n",
    "   Example: `ALTER TABLE Employees ADD Email VARCHAR;`\n",
    "\n",
    "4. TRUNCATE: Deletes all data in a table, keeping the structure.\n",
    "   Example: `TRUNCATE TABLE Employees;`"
   ]
  },
  {
   "cell_type": "markdown",
   "id": "0de8c9b3",
   "metadata": {},
   "source": [
    "#### Q3. What is DML? Explain INSERT, UPDATE, and DELETE with an example."
   ]
  },
  {
   "cell_type": "code",
   "execution_count": null,
   "id": "a6e4a206",
   "metadata": {},
   "outputs": [],
   "source": [
    "DML (Data Manipulation Language) is a subset of SQL used for manipulating data in a database.\n",
    "\n",
    "1. INSERT: Adds new data into a table.\n",
    "   Example: `INSERT INTO Customers (Name, Email) VALUES ('John Doe', 'john@example.com');`\n",
    "\n",
    "2. UPDATE: Modifies existing data in a table.\n",
    "   Example: `UPDATE Employees SET Salary = 55000 WHERE ID = 123;`\n",
    "\n",
    "3. DELETE: Removes data from a table.\n",
    "   Example: `DELETE FROM Orders WHERE OrderID = 456;`\n",
    "\n",
    "DML commands are crucial for adding, changing, and removing data in a database."
   ]
  },
  {
   "cell_type": "markdown",
   "id": "dfc43631",
   "metadata": {},
   "source": [
    "#### Q4. What is DQL? Explain SELECT with an example."
   ]
  },
  {
   "cell_type": "code",
   "execution_count": null,
   "id": "859d6405",
   "metadata": {},
   "outputs": [],
   "source": [
    "DQL (Data Query Language) is a subset of SQL used for querying and retrieving data from a database.\n",
    "\n",
    "SELECT: Retrieves data from one or more tables.\n",
    "Example: `SELECT FirstName, LastName FROM Employees WHERE Department = 'HR';`\n",
    "\n",
    "The SELECT statement allows you to specify the columns you want to retrieve and apply conditions to filter \n",
    "the data you need from the database."
   ]
  },
  {
   "cell_type": "markdown",
   "id": "7126158d",
   "metadata": {},
   "source": [
    "#### Q5. Explain Primary Key and Foreign Key."
   ]
  },
  {
   "cell_type": "code",
   "execution_count": null,
   "id": "b30bbf64",
   "metadata": {},
   "outputs": [],
   "source": [
    "A primary key and a foreign key are both important concepts in database design and management:\n",
    "\n",
    "1. Primary Key:\n",
    "   - A primary key is a field or a combination of fields in a database table that uniquely identifies each row or \n",
    "     record in that table.\n",
    "   - It enforces data integrity by ensuring that no two rows can have the same primary key value.\n",
    "   - Typically, primary keys are used to link tables and establish relationships in a relational database.\n",
    "\n",
    "   Example: In a \"Students\" table, the \"StudentID\" column can be the primary key because it uniquely identifies each \n",
    "            student.\n",
    "\n",
    "2. Foreign Key:\n",
    "   - A foreign key is a field in a database table that is linked to the primary key of another table, creating a \n",
    "     relationship between the two tables.\n",
    "   - It is used to maintain referential integrity, ensuring that data in the foreign key column corresponds to data in \n",
    "     the primary key of the referenced table.\n",
    "   - Foreign keys are essential for creating relationships between tables in a relational database, such as connecting a \n",
    "    \"Students\" table to a \"Courses\" table.\n",
    "\n",
    "   Example: In a \"Enrollments\" table, the \"StudentID\" column can be a foreign key that links to the \"StudentID\" in the\n",
    "            \"Students\" table, indicating which student is enrolled in which course.\n",
    "\n",
    "In summary, a primary key uniquely identifies records within a table, while a foreign key establishes relationships \n",
    "between tables by linking to the primary key of another table, ensuring data integrity and enabling data retrieval \n",
    "across related tables."
   ]
  },
  {
   "cell_type": "markdown",
   "id": "0bd41c26",
   "metadata": {},
   "source": [
    "#### Q6. Write a python code to connect MySQL to python. Explain the cursor() and execute() method."
   ]
  },
  {
   "cell_type": "code",
   "execution_count": null,
   "id": "cd4118be",
   "metadata": {},
   "outputs": [],
   "source": [
    "To connect Python to MySQL using the `mysql-connector` library, follow these steps:\n",
    "\n",
    "1. Import the library and establish a database connection with your MySQL server.\n",
    "\n",
    "2. Create a cursor object using `mydb.cursor()`. The cursor allows you to execute SQL queries and fetch results.\n",
    "\n",
    "3. Use the `execute()` method on the cursor to run SQL queries, such as SELECT or INSERT, with optional parameterized values.\n",
    "\n",
    "4. After executing INSERT or UPDATE queries, use `mydb.commit()` to save the changes to the database.\n",
    "\n",
    "5. Close the cursor and the database connection using `mycursor.close()` and `mydb.close()` when you're done.\n",
    "\n",
    "The cursor is like a tool for executing SQL, and `execute()` is the method for sending SQL statements to the database."
   ]
  },
  {
   "cell_type": "markdown",
   "id": "266627e9",
   "metadata": {},
   "source": [
    "#### Q7. Give the order of execution of SQL clauses in an SQL query."
   ]
  },
  {
   "cell_type": "code",
   "execution_count": null,
   "id": "0ffd5259",
   "metadata": {},
   "outputs": [],
   "source": [
    "In an SQL query, the clauses are executed in the following order:\n",
    "\n",
    "SELECT\n",
    "FROM\n",
    "WHERE\n",
    "GROUP BY\n",
    "HAVING\n",
    "ORDER BY"
   ]
  }
 ],
 "metadata": {
  "kernelspec": {
   "display_name": "Python 3 (ipykernel)",
   "language": "python",
   "name": "python3"
  },
  "language_info": {
   "codemirror_mode": {
    "name": "ipython",
    "version": 3
   },
   "file_extension": ".py",
   "mimetype": "text/x-python",
   "name": "python",
   "nbconvert_exporter": "python",
   "pygments_lexer": "ipython3",
   "version": "3.9.13"
  }
 },
 "nbformat": 4,
 "nbformat_minor": 5
}
